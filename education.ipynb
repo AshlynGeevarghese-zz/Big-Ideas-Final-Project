{
 "cells": [
  {
   "cell_type": "markdown",
   "metadata": {},
   "source": [
    "Neighborhoods with higher high school graduation counts tend to be better places to live. The purpose of this notebook is to determine the neighborhoods with the highest amount of high school graduates and easily visualize the data."
   ]
  },
  {
   "cell_type": "code",
   "execution_count": 4,
   "metadata": {},
   "outputs": [],
   "source": [
    "import pandas as pd\n",
    "import numpy as np\n",
    "import geopandas as gpd\n",
    "import matplotlib.pyplot as plot\n",
    "education = pd.read_csv(\"education.csv\", index_col=\"id\")"
   ]
  },
  {
   "cell_type": "markdown",
   "metadata": {},
   "source": [
    "Firstly the dataset should be sorted from lowest to highest high school graduation rate"
   ]
  },
  {
   "cell_type": "code",
   "execution_count": 5,
   "metadata": {},
   "outputs": [
    {
     "name": "stdout",
     "output_type": "stream",
     "text": [
      "            Neighborhood  Sector # Population (2010)  \\\n",
      "id                                                     \n",
      "1    Squirrel Hill North        10            11,363   \n",
      "2              Shadyside        12            13,915   \n",
      "3    Squirrel Hill South        10            15,110   \n",
      "4          North Oakland        14            10,551   \n",
      "5           Point Breeze        10             5,315   \n",
      "..                   ...       ...               ...   \n",
      "86  California-Kirkbride         3               761   \n",
      "87                 Bluff        15             6,600   \n",
      "88     Arlington Heights         7               244   \n",
      "89         East Carnegie         4               570   \n",
      "90               Chateau         3                11   \n",
      "\n",
      "   Total Pop, 25 and older (2010)  \\\n",
      "id                                  \n",
      "1                           6,207   \n",
      "2                          10,234   \n",
      "3                          11,137   \n",
      "4                           3,050   \n",
      "5                           4,322   \n",
      "..                            ...   \n",
      "86                            416   \n",
      "87                          2,834   \n",
      "88                            166   \n",
      "89                            204   \n",
      "90                              0   \n",
      "\n",
      "    Edu. Attainment: Less than High School (2010)  \\\n",
      "id                                                  \n",
      "1                                           0.018   \n",
      "2                                           0.042   \n",
      "3                                           0.048   \n",
      "4                                           0.043   \n",
      "5                                           0.050   \n",
      "..                                            ...   \n",
      "86                                          0.089   \n",
      "87                                          0.141   \n",
      "88                                          0.181   \n",
      "89                                          0.098   \n",
      "90                                            NaN   \n",
      "\n",
      "    Edu. Attainment: High School Graduate (2010)  \\\n",
      "id                                                 \n",
      "1                                          0.141   \n",
      "2                                          0.157   \n",
      "3                                          0.213   \n",
      "4                                          0.231   \n",
      "5                                          0.232   \n",
      "..                                           ...   \n",
      "86                                         0.724   \n",
      "87                                         0.739   \n",
      "88                                         0.741   \n",
      "89                                         0.799   \n",
      "90                                           NaN   \n",
      "\n",
      "    Edu. Attainment: Assoc./Prof. Degree (2010)  \\\n",
      "id                                                \n",
      "1                                         0.174   \n",
      "2                                         0.180   \n",
      "3                                         0.146   \n",
      "4                                         0.153   \n",
      "5                                         0.134   \n",
      "..                                          ...   \n",
      "86                                        0.024   \n",
      "87                                        0.044   \n",
      "88                                        0.000   \n",
      "89                                        0.049   \n",
      "90                                          NaN   \n",
      "\n",
      "    Edu. Attainment: Bachelor's Degree (2010)  \\\n",
      "id                                              \n",
      "1                                       0.267   \n",
      "2                                       0.323   \n",
      "3                                       0.274   \n",
      "4                                       0.274   \n",
      "5                                       0.259   \n",
      "..                                        ...   \n",
      "86                                      0.163   \n",
      "87                                      0.026   \n",
      "88                                      0.078   \n",
      "89                                      0.000   \n",
      "90                                        NaN   \n",
      "\n",
      "    Edu. Attainment: Postgraduate Degree (2010)  \\\n",
      "id                                                \n",
      "1                                         0.401   \n",
      "2                                         0.298   \n",
      "3                                         0.320   \n",
      "4                                         0.299   \n",
      "5                                         0.325   \n",
      "..                                          ...   \n",
      "86                                        0.000   \n",
      "87                                        0.050   \n",
      "88                                        0.000   \n",
      "89                                        0.054   \n",
      "90                                          NaN   \n",
      "\n",
      "   1999 Median Income ('99 Dollars) 2009 Median Income ('09 Dollars)  \\\n",
      "id                                                                     \n",
      "1                          $64,740                          $83,861    \n",
      "2                          $35,709                          $45,315    \n",
      "3                          $40,327                          $54,473    \n",
      "4                          $41,532                          $50,004    \n",
      "5                          $71,548                          $87,802    \n",
      "..                              ...                              ...   \n",
      "86                         $23,750                          $26,351    \n",
      "87                         $11,515                          $12,795    \n",
      "88                         $18,646                           $9,417    \n",
      "89                         $26,429                          $40,750    \n",
      "90                          $7,440                               $0    \n",
      "\n",
      "   1999 Median Income ('11 Dollars) 2009 Med. Income ('13 Dollars)  \\\n",
      "id                                                                   \n",
      "1                          $86,001                        $91,409    \n",
      "2                          $47,435                        $49,393    \n",
      "3                          $53,570                        $59,376    \n",
      "4                          $55,171                        $54,504    \n",
      "5                          $95,044                        $95,704    \n",
      "..                              ...                            ...   \n",
      "86                         $31,550                        $28,723    \n",
      "87                         $15,297                        $13,947    \n",
      "88                         $24,769                        $10,265    \n",
      "89                         $35,108                        $44,418    \n",
      "90                          $9,883                             $0    \n",
      "\n",
      "   Est. Pop. for which Poverty Calc. (2010) Est. Pop. Under Poverty (2010)  \\\n",
      "id                                                                           \n",
      "1                                     9,009                            797   \n",
      "2                                    13,757                          2,656   \n",
      "3                                    14,692                          1,721   \n",
      "4                                     5,077                          1,989   \n",
      "5                                     5,801                            264   \n",
      "..                                      ...                            ...   \n",
      "86                                      912                            572   \n",
      "87                                    1,365                          1,095   \n",
      "88                                      293                            169   \n",
      "89                                      255                             32   \n",
      "90                                       92                             92   \n",
      "\n",
      "   Est. Percent Under Poverty (2010)  \n",
      "id                                    \n",
      "1                              8.80%  \n",
      "2                             19.30%  \n",
      "3                             11.70%  \n",
      "4                             39.20%  \n",
      "5                              4.60%  \n",
      "..                               ...  \n",
      "86                            62.70%  \n",
      "87                            80.20%  \n",
      "88                            57.70%  \n",
      "89                            12.50%  \n",
      "90                           100.00%  \n",
      "\n",
      "[90 rows x 16 columns]\n"
     ]
    }
   ],
   "source": [
    "hssort = education.sort_values(by='Edu. Attainment: High School Graduate (2010)')\n",
    "print(hssort)"
   ]
  },
  {
   "cell_type": "markdown",
   "metadata": {},
   "source": [
    "Using this information we can see that East Carnegie has the highest percentage of high school graduates. In order to detrmine however if East Carnegie is best for education, we need to look at its other details. Lets check the college graduation amounts."
   ]
  },
  {
   "cell_type": "code",
   "execution_count": 6,
   "metadata": {},
   "outputs": [
    {
     "name": "stdout",
     "output_type": "stream",
     "text": [
      "     Neighborhood  Sector # Population (2010) Total Pop, 25 and older (2010)  \\\n",
      "id                                                                             \n",
      "89  East Carnegie         4               570                            204   \n",
      "\n",
      "    Edu. Attainment: Less than High School (2010)  \\\n",
      "id                                                  \n",
      "89                                          0.098   \n",
      "\n",
      "    Edu. Attainment: High School Graduate (2010)  \\\n",
      "id                                                 \n",
      "89                                         0.799   \n",
      "\n",
      "    Edu. Attainment: Assoc./Prof. Degree (2010)  \\\n",
      "id                                                \n",
      "89                                        0.049   \n",
      "\n",
      "    Edu. Attainment: Bachelor's Degree (2010)  \\\n",
      "id                                              \n",
      "89                                        0.0   \n",
      "\n",
      "    Edu. Attainment: Postgraduate Degree (2010)  \\\n",
      "id                                                \n",
      "89                                        0.054   \n",
      "\n",
      "   1999 Median Income ('99 Dollars) 2009 Median Income ('09 Dollars)  \\\n",
      "id                                                                     \n",
      "89                         $26,429                          $40,750    \n",
      "\n",
      "   1999 Median Income ('11 Dollars) 2009 Med. Income ('13 Dollars)  \\\n",
      "id                                                                   \n",
      "89                         $35,108                        $44,418    \n",
      "\n",
      "   Est. Pop. for which Poverty Calc. (2010) Est. Pop. Under Poverty (2010)  \\\n",
      "id                                                                           \n",
      "89                                      255                             32   \n",
      "\n",
      "   Est. Percent Under Poverty (2010)  \n",
      "id                                    \n",
      "89                            12.50%  \n"
     ]
    }
   ],
   "source": [
    "print(education.loc[[89]])"
   ]
  },
  {
   "cell_type": "markdown",
   "metadata": {},
   "source": [
    "We can see here that although much of the population did complete high school, very little of them went on to earn a college degree. Looking at the data a second possible candiate for best education is the neighborhood West End. The data is visible below."
   ]
  },
  {
   "cell_type": "code",
   "execution_count": 7,
   "metadata": {},
   "outputs": [
    {
     "name": "stdout",
     "output_type": "stream",
     "text": [
      "   Neighborhood  Sector # Population (2010) Total Pop, 25 and older (2010)  \\\n",
      "id                                                                           \n",
      "14     West End         4               254                             86   \n",
      "\n",
      "    Edu. Attainment: Less than High School (2010)  \\\n",
      "id                                                  \n",
      "14                                          0.128   \n",
      "\n",
      "    Edu. Attainment: High School Graduate (2010)  \\\n",
      "id                                                 \n",
      "14                                          0.36   \n",
      "\n",
      "    Edu. Attainment: Assoc./Prof. Degree (2010)  \\\n",
      "id                                                \n",
      "14                                        0.244   \n",
      "\n",
      "    Edu. Attainment: Bachelor's Degree (2010)  \\\n",
      "id                                              \n",
      "14                                      0.267   \n",
      "\n",
      "    Edu. Attainment: Postgraduate Degree (2010)  \\\n",
      "id                                                \n",
      "14                                          0.0   \n",
      "\n",
      "   1999 Median Income ('99 Dollars) 2009 Median Income ('09 Dollars)  \\\n",
      "id                                                                     \n",
      "14                         $21,382                          $41,250    \n",
      "\n",
      "   1999 Median Income ('11 Dollars) 2009 Med. Income ('13 Dollars)  \\\n",
      "id                                                                   \n",
      "14                         $28,404                        $44,963    \n",
      "\n",
      "   Est. Pop. for which Poverty Calc. (2010) Est. Pop. Under Poverty (2010)  \\\n",
      "id                                                                           \n",
      "14                                      116                              0   \n",
      "\n",
      "   Est. Percent Under Poverty (2010)  \n",
      "id                                    \n",
      "14                             0.00%  \n"
     ]
    }
   ],
   "source": [
    "print(education.loc[[14]])"
   ]
  },
  {
   "cell_type": "markdown",
   "metadata": {},
   "source": [
    "West End scores the highest in two year degrees and also scores respectably in other fields such as high school graduation rates and four year degrees. Now that we have two potential candiates for best education, lets compare their data."
   ]
  },
  {
   "cell_type": "code",
   "execution_count": 8,
   "metadata": {},
   "outputs": [
    {
     "name": "stdout",
     "output_type": "stream",
     "text": [
      "[0.098, 0.799, 0.049, 0.0, 0.054]\n",
      "[0.128, 0.36, 0.244, 0.267, 0.0]\n"
     ]
    }
   ],
   "source": [
    "echs = education.at[89,'Edu. Attainment: High School Graduate (2010)']\n",
    "ecnhs = education.at[89,'Edu. Attainment: Less than High School (2010)']\n",
    "ectwo = education.at[89,'Edu. Attainment: Assoc./Prof. Degree (2010)']\n",
    "ecfour = education.at[89,'Edu. Attainment: Bachelor\\'s Degree (2010)']\n",
    "ecpost = education.at[89,'Edu. Attainment: Postgraduate Degree (2010)']\n",
    "ecedu = [ecnhs, echs, ectwo, ecfour, ecpost]\n",
    "print(ecedu)\n",
    "\n",
    "wehs = education.at[14, 'Edu. Attainment: High School Graduate (2010)']\n",
    "wenhs = education.at[14, 'Edu. Attainment: Less than High School (2010)']\n",
    "wetwo = education.at[14, 'Edu. Attainment: Assoc./Prof. Degree (2010)']\n",
    "wefour = education.at[14, 'Edu. Attainment: Bachelor\\'s Degree (2010)']\n",
    "wepost = education.at[14, 'Edu. Attainment: Postgraduate Degree (2010)']\n",
    "weedu = [wenhs, wehs, wetwo, wefour, wepost]\n",
    "print(weedu)"
   ]
  },
  {
   "cell_type": "markdown",
   "metadata": {},
   "source": [
    "Now lets create a new dataframe with the data that is important"
   ]
  },
  {
   "cell_type": "code",
   "execution_count": 9,
   "metadata": {},
   "outputs": [
    {
     "name": "stdout",
     "output_type": "stream",
     "text": [
      "               Less than High School  High School  Two years of college  \\\n",
      "East Carnegie                  0.098        0.799                 0.049   \n",
      "West End                       0.128        0.360                 0.244   \n",
      "\n",
      "               Four years of college  Graduate Degree  \n",
      "East Carnegie                  0.000            0.054  \n",
      "West End                       0.267            0.000  \n"
     ]
    }
   ],
   "source": [
    "columns = [\"Less than High School\", \"High School\", \"Two years of college\", \"Four years of college\", \"Graduate Degree\"]\n",
    "rows = [\"East Carnegie\", \"West End\"]\n",
    "data = np.array([[ecedu[0], ecedu[1], ecedu[2], ecedu[3], ecedu[4]], [weedu[0], weedu[1], weedu[2], weedu[3], weedu[4]]])\n",
    "df = pd.DataFrame(data=data, index=rows, columns=columns)\n",
    "print(df)"
   ]
  },
  {
   "cell_type": "markdown",
   "metadata": {},
   "source": [
    "To better visualize this we can plot each neighborhood's data in a pie chart"
   ]
  },
  {
   "cell_type": "code",
   "execution_count": 10,
   "metadata": {},
   "outputs": [
    {
     "data": {
      "image/png": "[encoded data removed]",
      "text/plain": [
       "<Figure size 432x288 with 1 Axes>"
      ]
     },
     "metadata": {
      "needs_background": "light"
     },
     "output_type": "display_data"
    },
    {
     "data": {
      "image/png": "[encoded data removed]",
      "text/plain": [
       "<Figure size 432x288 with 1 Axes>"
      ]
     },
     "metadata": {
      "needs_background": "light"
     },
     "output_type": "display_data"
    }
   ],
   "source": [
    "ecdata = {\"Type\":[\"Less than High School\", \"High School\", \"Two years of college\", \"Four years of college\", \"Graduate Degree\"], \"Percents\":[ecedu[0], ecedu[1], ecedu[2], ecedu[3], ecedu[4]]};   \n",
    "ecdf = pd.DataFrame(data=ecdata);\n",
    "plot = ecdf.plot.bar(x=\"Type\", y=\"Percents\", rot=70, title=\"East Carnegie Education Percentages\");\n",
    "\n",
    "wedata = {\"Type\":[\"Less than High School\", \"High School\", \"Two years of college\", \"Four years of college\", \"Graduate Degree\"], \"Percents\":[weedu[0], weedu[1], weedu[2], weedu[3], weedu[4]]};   \n",
    "wedf = pd.DataFrame(data=wedata);\n",
    "plot = wedf.plot.bar(x=\"Type\", y=\"Percents\", rot=70, title=\"West End Education Percentages\");"
   ]
  },
  {
   "cell_type": "markdown",
   "metadata": {},
   "source": [
    "From this data we can gather that although West End has more diversity in its populations highest education, it still has a higher percentage of the population that did not complete high school making East Carnegie the best neighborhood in Pittsburgh for education"
   ]
  }
 ],
 "metadata": {
  "kernelspec": {
   "display_name": "Python 3",
   "language": "python",
   "name": "python3"
  },
  "language_info": {
   "codemirror_mode": {
    "name": "ipython",
    "version": 3
   },
   "file_extension": ".py",
   "mimetype": "text/x-python",
   "name": "python",
   "nbconvert_exporter": "python",
   "pygments_lexer": "ipython3",
   "version": "3.8.3"
  }
 },
 "nbformat": 4,
 "nbformat_minor": 4
}
